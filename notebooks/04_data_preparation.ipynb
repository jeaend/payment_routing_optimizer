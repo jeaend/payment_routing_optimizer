{
 "cells": [
  {
   "cell_type": "markdown",
   "metadata": {},
   "source": [
    "## prepare data for modeling"
   ]
  },
  {
   "cell_type": "code",
   "execution_count": 1,
   "metadata": {},
   "outputs": [],
   "source": [
    "# setup\n",
    "import sys\n",
    "import os\n",
    "sys.path.append(os.path.abspath('../src'))\n",
    "\n",
    "import pandas as pd\n",
    "import numpy as np\n",
    "import matplotlib.pyplot as plt\n",
    "import seaborn as sns\n",
    "from sklearn.model_selection import train_test_split\n",
    "from sklearn.preprocessing import StandardScaler, OneHotEncoder, FunctionTransformer\n",
    "from sklearn.compose import ColumnTransformer\n",
    "from sklearn.pipeline import Pipeline\n",
    "from sklearn.ensemble import RandomForestClassifier\n",
    "from sklearn.metrics import classification_report, confusion_matrix, precision_recall_curve, f1_score, precision_score, auc\n",
    "\n",
    "from utils import preprocess_data, validate_data\n",
    "\n",
    "data_location = '../data/raw/psp_raw_data.xlsx'"
   ]
  },
  {
   "cell_type": "markdown",
   "metadata": {},
   "source": [
    "### retrieve, preprocess and validate data\n",
    "- feature selection based in previous analysis"
   ]
  },
  {
   "cell_type": "code",
   "execution_count": 2,
   "metadata": {},
   "outputs": [
    {
     "name": "stdout",
     "output_type": "stream",
     "text": [
      "Validation complete and successful.\n",
      "None\n"
     ]
    },
    {
     "data": {
      "text/html": [
       "<div>\n",
       "<style scoped>\n",
       "    .dataframe tbody tr th:only-of-type {\n",
       "        vertical-align: middle;\n",
       "    }\n",
       "\n",
       "    .dataframe tbody tr th {\n",
       "        vertical-align: top;\n",
       "    }\n",
       "\n",
       "    .dataframe thead th {\n",
       "        text-align: right;\n",
       "    }\n",
       "</style>\n",
       "<table border=\"1\" class=\"dataframe\">\n",
       "  <thead>\n",
       "    <tr style=\"text-align: right;\">\n",
       "      <th></th>\n",
       "      <th>country</th>\n",
       "      <th>card</th>\n",
       "      <th>3d_secured</th>\n",
       "      <th>is_peak_time</th>\n",
       "      <th>amount</th>\n",
       "      <th>psp</th>\n",
       "      <th>success</th>\n",
       "    </tr>\n",
       "  </thead>\n",
       "  <tbody>\n",
       "    <tr>\n",
       "      <th>0</th>\n",
       "      <td>Germany</td>\n",
       "      <td>Visa</td>\n",
       "      <td>0</td>\n",
       "      <td>0</td>\n",
       "      <td>89</td>\n",
       "      <td>UK_Card</td>\n",
       "      <td>0</td>\n",
       "    </tr>\n",
       "    <tr>\n",
       "      <th>1</th>\n",
       "      <td>Germany</td>\n",
       "      <td>Visa</td>\n",
       "      <td>0</td>\n",
       "      <td>0</td>\n",
       "      <td>89</td>\n",
       "      <td>UK_Card</td>\n",
       "      <td>1</td>\n",
       "    </tr>\n",
       "    <tr>\n",
       "      <th>2</th>\n",
       "      <td>Germany</td>\n",
       "      <td>Diners</td>\n",
       "      <td>1</td>\n",
       "      <td>0</td>\n",
       "      <td>238</td>\n",
       "      <td>UK_Card</td>\n",
       "      <td>0</td>\n",
       "    </tr>\n",
       "    <tr>\n",
       "      <th>3</th>\n",
       "      <td>Germany</td>\n",
       "      <td>Diners</td>\n",
       "      <td>1</td>\n",
       "      <td>0</td>\n",
       "      <td>238</td>\n",
       "      <td>UK_Card</td>\n",
       "      <td>1</td>\n",
       "    </tr>\n",
       "    <tr>\n",
       "      <th>4</th>\n",
       "      <td>Austria</td>\n",
       "      <td>Diners</td>\n",
       "      <td>0</td>\n",
       "      <td>0</td>\n",
       "      <td>124</td>\n",
       "      <td>Simplecard</td>\n",
       "      <td>0</td>\n",
       "    </tr>\n",
       "  </tbody>\n",
       "</table>\n",
       "</div>"
      ],
      "text/plain": [
       "   country    card 3d_secured is_peak_time  amount         psp  success\n",
       "0  Germany    Visa          0            0      89     UK_Card        0\n",
       "1  Germany    Visa          0            0      89     UK_Card        1\n",
       "2  Germany  Diners          1            0     238     UK_Card        0\n",
       "3  Germany  Diners          1            0     238     UK_Card        1\n",
       "4  Austria  Diners          0            0     124  Simplecard        0"
      ]
     },
     "metadata": {},
     "output_type": "display_data"
    }
   ],
   "source": [
    "df = pd.read_excel(data_location, index_col=0)\n",
    "\n",
    "# Apply the preprocessing and validation function\n",
    "df = preprocess_data(df)\n",
    "print(validate_data(df))\n",
    "display(df.head())"
   ]
  },
  {
   "cell_type": "markdown",
   "metadata": {},
   "source": [
    "## baseline model \n",
    "- no handling imbalance, no hyperparameter tuning, etc"
   ]
  },
  {
   "cell_type": "markdown",
   "metadata": {},
   "source": [
    "### create model"
   ]
  },
  {
   "cell_type": "code",
   "execution_count": 3,
   "metadata": {},
   "outputs": [
    {
     "name": "stdout",
     "output_type": "stream",
     "text": [
      "Validation complete and successful.\n",
      "None\n"
     ]
    }
   ],
   "source": [
    "# Load and preprocess data\n",
    "df = pd.read_excel(data_location, index_col=0)\n",
    "df = preprocess_data(df)\n",
    "print(validate_data(df))\n",
    "\n",
    "# Feature lists\n",
    "categorical_features = ['country', 'card', 'psp']\n",
    "binary_features = ['3d_secured', 'is_peak_time']\n",
    "numerical_features = ['amount']\n",
    "\n",
    "# Define features and target\n",
    "X = df.drop(columns=['success'])\n",
    "y = df['success']\n",
    "\n",
    "# Preprocessing pipeline\n",
    "preprocessor = ColumnTransformer(\n",
    "    transformers=[\n",
    "        ('log_and_scale', Pipeline([\n",
    "            ('log', FunctionTransformer(lambda x: np.log1p(x), validate=True)), \n",
    "            ('scaler', StandardScaler())\n",
    "        ]), numerical_features),\n",
    "        ('cat', OneHotEncoder(), categorical_features),\n",
    "        ('binary', 'passthrough', binary_features)\n",
    "    ]\n",
    ")\n",
    "\n",
    "# Model pipeline\n",
    "pipeline = Pipeline(steps=[\n",
    "    ('preprocessor', preprocessor),\n",
    "    ('classifier', RandomForestClassifier(n_estimators=100, random_state=42))\n",
    "])\n",
    "\n",
    "# Train-test split\n",
    "X_train, X_test, y_train, y_test = train_test_split(X, y, test_size=0.2, random_state=42)\n",
    "\n",
    "# Train the model\n",
    "pipeline.fit(X_train, y_train)\n",
    "\n",
    "# Create predictions for all PSPs for a single data point\n",
    "def predict_psp_probabilities(model, preprocessor, new_data, psp_list):\n",
    "    \"\"\"\n",
    "    Predict success probabilities for each PSP for a given input data point.\n",
    "    \"\"\"\n",
    "    results = []\n",
    "    for psp in psp_list:\n",
    "        new_data_with_psp = new_data.copy()\n",
    "        new_data_with_psp['psp'] = psp  # Set PSP\n",
    "        preprocessed = preprocessor.transform(new_data_with_psp)\n",
    "        prob = model.predict_proba(preprocessed)[:, 1][0]  # Probability of success\n",
    "        results.append((psp, prob))\n",
    "    return results"
   ]
  },
  {
   "cell_type": "markdown",
   "metadata": {},
   "source": [
    "### evaluate model"
   ]
  },
  {
   "cell_type": "code",
   "execution_count": 4,
   "metadata": {},
   "outputs": [
    {
     "data": {
      "image/png": "[encoded data removed]",
      "text/plain": [
       "<Figure size 1600x600 with 3 Axes>"
      ]
     },
     "metadata": {},
     "output_type": "display_data"
    },
    {
     "name": "stdout",
     "output_type": "stream",
     "text": [
      "\n",
      "Classification Report:\n"
     ]
    },
    {
     "data": {
      "text/html": [
       "<div>\n",
       "<style scoped>\n",
       "    .dataframe tbody tr th:only-of-type {\n",
       "        vertical-align: middle;\n",
       "    }\n",
       "\n",
       "    .dataframe tbody tr th {\n",
       "        vertical-align: top;\n",
       "    }\n",
       "\n",
       "    .dataframe thead th {\n",
       "        text-align: right;\n",
       "    }\n",
       "</style>\n",
       "<table border=\"1\" class=\"dataframe\">\n",
       "  <thead>\n",
       "    <tr style=\"text-align: right;\">\n",
       "      <th></th>\n",
       "      <th>precision</th>\n",
       "      <th>recall</th>\n",
       "      <th>f1-score</th>\n",
       "      <th>support</th>\n",
       "    </tr>\n",
       "  </thead>\n",
       "  <tbody>\n",
       "    <tr>\n",
       "      <th>Failure (0)</th>\n",
       "      <td>0.822663</td>\n",
       "      <td>0.889488</td>\n",
       "      <td>0.854771</td>\n",
       "      <td>8162.000000</td>\n",
       "    </tr>\n",
       "    <tr>\n",
       "      <th>Success (1)</th>\n",
       "      <td>0.282418</td>\n",
       "      <td>0.184896</td>\n",
       "      <td>0.223481</td>\n",
       "      <td>1920.000000</td>\n",
       "    </tr>\n",
       "    <tr>\n",
       "      <th>accuracy</th>\n",
       "      <td>0.755306</td>\n",
       "      <td>0.755306</td>\n",
       "      <td>0.755306</td>\n",
       "      <td>0.755306</td>\n",
       "    </tr>\n",
       "    <tr>\n",
       "      <th>macro avg</th>\n",
       "      <td>0.552541</td>\n",
       "      <td>0.537192</td>\n",
       "      <td>0.539126</td>\n",
       "      <td>10082.000000</td>\n",
       "    </tr>\n",
       "    <tr>\n",
       "      <th>weighted avg</th>\n",
       "      <td>0.719780</td>\n",
       "      <td>0.755306</td>\n",
       "      <td>0.734549</td>\n",
       "      <td>10082.000000</td>\n",
       "    </tr>\n",
       "  </tbody>\n",
       "</table>\n",
       "</div>"
      ],
      "text/plain": [
       "              precision    recall  f1-score       support\n",
       "Failure (0)    0.822663  0.889488  0.854771   8162.000000\n",
       "Success (1)    0.282418  0.184896  0.223481   1920.000000\n",
       "accuracy       0.755306  0.755306  0.755306      0.755306\n",
       "macro avg      0.552541  0.537192  0.539126  10082.000000\n",
       "weighted avg   0.719780  0.755306  0.734549  10082.000000"
      ]
     },
     "metadata": {},
     "output_type": "display_data"
    },
    {
     "name": "stdout",
     "output_type": "stream",
     "text": [
      "Best F1-Score: 0.3356 at Threshold: 0.0083\n",
      "Total Model F1-Score: 0.2235\n",
      "Total Model Precision: 0.2824\n"
     ]
    }
   ],
   "source": [
    "# Evaluate model predictions\n",
    "y_test_pred = pipeline.predict(X_test)\n",
    "y_test_pred_prob = pipeline.predict_proba(X_test)[:, 1]\n",
    "\n",
    "# 1. Confusion Matrix\n",
    "conf_matrix = confusion_matrix(y_test, y_test_pred)\n",
    "\n",
    "# 2. Precision-Recall Curve\n",
    "precision, recall, thresholds = precision_recall_curve(y_test, y_test_pred_prob)\n",
    "pr_auc = auc(recall, precision)\n",
    "\n",
    "# Create a figure with 1 row and 2 columns for side-by-side plots\n",
    "fig, axes = plt.subplots(1, 2, figsize=(16, 6))\n",
    "\n",
    "# Plot Confusion Matrix\n",
    "sns.heatmap(conf_matrix, annot=True, fmt='d', cmap='Blues', \n",
    "            xticklabels=['Failure (0)', 'Success (1)'], \n",
    "            yticklabels=['Failure (0)', 'Success (1)'], ax=axes[0])\n",
    "axes[0].set_xlabel('Predicted')\n",
    "axes[0].set_ylabel('True')\n",
    "axes[0].set_title('Confusion Matrix')\n",
    "\n",
    "# Plot Precision-Recall Curve\n",
    "axes[1].plot(recall, precision, color='blue', lw=2)\n",
    "axes[1].set_xlabel('Recall')\n",
    "axes[1].set_ylabel('Precision')\n",
    "axes[1].set_title(f'Precision-Recall Curve (PR-AUC = {pr_auc:.4f})')\n",
    "axes[1].grid()\n",
    "\n",
    "# Adjust layout for better spacing\n",
    "plt.tight_layout()\n",
    "plt.show()\n",
    "\n",
    "# 3. Classification Report (Precision, Recall, F1-Score)\n",
    "report = classification_report(y_test, y_test_pred, target_names=['Failure (0)', 'Success (1)'], output_dict=True)\n",
    "report_df = pd.DataFrame(report).transpose()\n",
    "print(\"\\nClassification Report:\")\n",
    "display(report_df)\n",
    "\n",
    "# Find threshold for best F1-Score\n",
    "valid_mask = (precision + recall) > 0\n",
    "f1_scores = 2 * (precision[valid_mask] * recall[valid_mask]) / (precision[valid_mask] + recall[valid_mask])\n",
    "valid_thresholds = thresholds[valid_mask[:-1]]  # Match length with thresholds\n",
    "\n",
    "# Find the best threshold\n",
    "if f1_scores.size > 0:  # Ensure there's at least one valid F1-score\n",
    "    best_f1 = f1_scores.max()\n",
    "    best_threshold = valid_thresholds[f1_scores.argmax()]\n",
    "    print(f\"Best F1-Score: {best_f1:.4f} at Threshold: {best_threshold:.4f}\")\n",
    "else:\n",
    "    print(\"No valid F1-scores could be calculated.\")\n",
    "\n",
    "# 4. Total F1-Score\n",
    "f1 = f1_score(y_test, y_test_pred, pos_label=1)\n",
    "print(f\"Total Model F1-Score: {f1:.4f}\")\n",
    "\n",
    "# 5. Overall Precision\n",
    "precision = precision_score(y_test, y_test_pred, average='binary', pos_label=1)\n",
    "print(f\"Total Model Precision: {precision:.4f}\")\n"
   ]
  },
  {
   "cell_type": "markdown",
   "metadata": {},
   "source": [
    "### use model"
   ]
  },
  {
   "cell_type": "code",
   "execution_count": 5,
   "metadata": {},
   "outputs": [
    {
     "name": "stdout",
     "output_type": "stream",
     "text": [
      "Predicted probabilities for each PSP:\n"
     ]
    },
    {
     "data": {
      "text/html": [
       "<div>\n",
       "<style scoped>\n",
       "    .dataframe tbody tr th:only-of-type {\n",
       "        vertical-align: middle;\n",
       "    }\n",
       "\n",
       "    .dataframe tbody tr th {\n",
       "        vertical-align: top;\n",
       "    }\n",
       "\n",
       "    .dataframe thead th {\n",
       "        text-align: right;\n",
       "    }\n",
       "</style>\n",
       "<table border=\"1\" class=\"dataframe\">\n",
       "  <thead>\n",
       "    <tr style=\"text-align: right;\">\n",
       "      <th></th>\n",
       "      <th>country</th>\n",
       "      <th>card</th>\n",
       "      <th>amount</th>\n",
       "      <th>3d_secured</th>\n",
       "      <th>is_peak_time</th>\n",
       "      <th>UK_Card</th>\n",
       "      <th>Simplecard</th>\n",
       "      <th>Moneycard</th>\n",
       "      <th>Goldcard</th>\n",
       "    </tr>\n",
       "  </thead>\n",
       "  <tbody>\n",
       "    <tr>\n",
       "      <th>0</th>\n",
       "      <td>Germany</td>\n",
       "      <td>Visa</td>\n",
       "      <td>100</td>\n",
       "      <td>1</td>\n",
       "      <td>0</td>\n",
       "      <td>0.8275</td>\n",
       "      <td>0.936667</td>\n",
       "      <td>0.01</td>\n",
       "      <td>0.19</td>\n",
       "    </tr>\n",
       "  </tbody>\n",
       "</table>\n",
       "</div>"
      ],
      "text/plain": [
       "   country  card  amount  3d_secured  is_peak_time  UK_Card  Simplecard  \\\n",
       "0  Germany  Visa     100           1             0   0.8275    0.936667   \n",
       "\n",
       "   Moneycard  Goldcard  \n",
       "0       0.01      0.19  "
      ]
     },
     "metadata": {},
     "output_type": "display_data"
    }
   ],
   "source": [
    "# Simulate a new data point\n",
    "new_data = pd.DataFrame({\n",
    "    'country': ['Germany'],\n",
    "    'card': ['Visa'],\n",
    "    'amount': [100],\n",
    "    '3d_secured': [1],\n",
    "    'is_peak_time': [0]\n",
    "})\n",
    "\n",
    "# Get all unique PSPs\n",
    "psp_list = df['psp'].unique()\n",
    "\n",
    "# Predict probabilities\n",
    "probabilities = predict_psp_probabilities(\n",
    "    model=pipeline.named_steps['classifier'], \n",
    "    preprocessor=pipeline.named_steps['preprocessor'], \n",
    "    new_data=new_data, \n",
    "    psp_list=psp_list\n",
    ")\n",
    "\n",
    "# Create a DataFrame for the input features\n",
    "input_data_df = new_data.reset_index(drop=True)\n",
    "# Create a DataFrame for probabilities\n",
    "probabilities_df = pd.DataFrame(probabilities, columns=['PSP', 'Probability'])\n",
    "\n",
    "# Create a dictionary from probabilities for easy column assignment\n",
    "prob_dict = dict(probabilities)\n",
    "\n",
    "# Add the probabilities as new columns to the input data\n",
    "for psp, prob in prob_dict.items():\n",
    "    input_data_df[psp] = prob\n",
    "\n",
    "# Output the final DataFrame\n",
    "print(\"Predicted probabilities for each PSP:\")\n",
    "display(input_data_df)"
   ]
  }
 ],
 "metadata": {
  "kernelspec": {
   "display_name": "base",
   "language": "python",
   "name": "python3"
  },
  "language_info": {
   "codemirror_mode": {
    "name": "ipython",
    "version": 3
   },
   "file_extension": ".py",
   "mimetype": "text/x-python",
   "name": "python",
   "nbconvert_exporter": "python",
   "pygments_lexer": "ipython3",
   "version": "3.11.7"
  }
 },
 "nbformat": 4,
 "nbformat_minor": 2
}
